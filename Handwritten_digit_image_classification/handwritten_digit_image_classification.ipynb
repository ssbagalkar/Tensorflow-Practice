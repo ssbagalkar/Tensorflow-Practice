{
 "cells": [
  {
   "cell_type": "code",
   "execution_count": 1,
   "metadata": {},
   "outputs": [
    {
     "name": "stdout",
     "output_type": "stream",
     "text": [
      "Extracting /tmp/data/train-images-idx3-ubyte.gz\n",
      "Extracting /tmp/data/train-labels-idx1-ubyte.gz\n",
      "Extracting /tmp/data/t10k-images-idx3-ubyte.gz\n",
      "Extracting /tmp/data/t10k-labels-idx1-ubyte.gz\n",
      "Data imported...\n"
     ]
    }
   ],
   "source": [
    "# Import data\n",
    "from tensorflow.examples.tutorials.mnist import input_data\n",
    "mnist = input_data.read_data_sets(\"/tmp/data/\", one_hot=True)\n",
    "print(\"Data imported...\")"
   ]
  },
  {
   "cell_type": "code",
   "execution_count": 2,
   "metadata": {},
   "outputs": [],
   "source": [
    "import tensorflow as tf\n",
    "from pytictoc import TicToc\n",
    "t=TicToc()"
   ]
  },
  {
   "cell_type": "code",
   "execution_count": 3,
   "metadata": {},
   "outputs": [
    {
     "name": "stdout",
     "output_type": "stream",
     "text": [
      "All hyperparameters are set...\n"
     ]
    }
   ],
   "source": [
    "#Set our hyperparameters\n",
    "learning_rate = 0.01\n",
    "num_epochs = 30\n",
    "batch_size = 30\n",
    "print(\"All hyperparameters are set...\")"
   ]
  },
  {
   "cell_type": "code",
   "execution_count": 4,
   "metadata": {},
   "outputs": [],
   "source": [
    "with tf.name_scope(\"input\"):\n",
    "    x = tf.placeholder(\"float\",[None, 784], name=\"x-input\") # mnist data images of 28*28=784\n",
    "    y = tf.placeholder(\"float\",[None, 10], name=\"y-input\") # 10 class labels"
   ]
  },
  {
   "cell_type": "code",
   "execution_count": 5,
   "metadata": {},
   "outputs": [],
   "source": [
    "# This is just used to display images in tensorboard\n",
    "with tf.name_scope(\"input-reshape\"):\n",
    "    image_input_reshape = tf.reshape(x,[-1,28,28,1])\n",
    "    tf.summary.image(\"input\",image_input_reshape,10)"
   ]
  },
  {
   "cell_type": "code",
   "execution_count": 6,
   "metadata": {},
   "outputs": [],
   "source": [
    "# Create model\n",
    "# Set weights\n",
    "with tf.name_scope(\"weights\"):\n",
    "    W = tf.Variable(tf.zeros([784,10]))\n",
    "\n",
    "# Set bias\n",
    "with tf.name_scope(\"bias\"):\n",
    "    b = tf.Variable(tf.zeros(10))"
   ]
  },
  {
   "cell_type": "code",
   "execution_count": 7,
   "metadata": {},
   "outputs": [],
   "source": [
    "# Create a model with Wx+b as scope\n",
    "with tf.name_scope(\"Wx_plus_b\") as scope:\n",
    "    # Solve the linear equation to get logits\n",
    "    logits = tf.matmul(x,W)+b\n",
    "\n",
    "with tf.name_scope(\"softmax\") as scope:\n",
    "    # Once we get the logits, we can turn these into probabilities using softmax function\n",
    "    model = tf.nn.softmax(logits)"
   ]
  },
  {
   "cell_type": "code",
   "execution_count": 8,
   "metadata": {},
   "outputs": [],
   "source": [
    "# add summary operations to visulaize the distribution of weights and biases\n",
    "w_h = tf.summary.histogram(\"weights\", W)\n",
    "b_h = tf.summary.histogram(\"biases\", b)"
   ]
  },
  {
   "cell_type": "code",
   "execution_count": 9,
   "metadata": {},
   "outputs": [],
   "source": [
    "# Define the cost function\n",
    "with tf.name_scope(\"cross_entropy\") as scope:\n",
    "    cost_function = -tf.reduce_sum(tf.multiply(y,tf.log(model)))\n",
    "    \n",
    "    # Create a summary to monitor the cost function\n",
    "    tf.summary.scalar(\"cost_function-xentropy\",cost_function)"
   ]
  },
  {
   "cell_type": "code",
   "execution_count": 10,
   "metadata": {},
   "outputs": [],
   "source": [
    "# Train the model\n",
    "with tf.name_scope(\"train\") as scope:\n",
    "    # Define the gradient descent optimizer\n",
    "    optimizer = tf.train.GradientDescentOptimizer(learning_rate).minimize(cost_function)# Test the model\n"
   ]
  },
  {
   "cell_type": "code",
   "execution_count": 11,
   "metadata": {},
   "outputs": [],
   "source": [
    "with tf.name_scope(\"accuracy\"):\n",
    "    # get predictions\n",
    "    predictions = tf.equal(tf.argmax(model,1),tf.argmax(y,1))\n",
    "    # Calculate accuracy\n",
    "    accuracy = tf.reduce_mean(tf.cast(predictions,\"float\"))\n",
    "\n",
    "    # Create a summary for accuracy\n",
    "    tf.summary.scalar(\"accuracy\",accuracy)"
   ]
  },
  {
   "cell_type": "code",
   "execution_count": 12,
   "metadata": {},
   "outputs": [],
   "source": [
    "# Merge all summaries\n",
    "merged_summary_op = tf.summary.merge_all()\n"
   ]
  },
  {
   "cell_type": "code",
   "execution_count": null,
   "metadata": {},
   "outputs": [],
   "source": [
    "# Initialize al variables\n",
    "init = tf.global_variables_initializer()"
   ]
  },
  {
   "cell_type": "code",
   "execution_count": null,
   "metadata": {},
   "outputs": [
    {
     "name": "stdout",
     "output_type": "stream",
     "text": [
      "start training...\n",
      "Epoch: 00 cost= 7.523623529\n",
      "Epoch: 05 cost= 5.671804012\n",
      "Epoch: 10 cost= 5.479472369\n",
      "Epoch: 15 cost= 5.342719825\n",
      "Epoch: 20 cost= 5.283801403\n",
      "Epoch: 25 cost= 5.226031990\n"
     ]
    }
   ],
   "source": [
    "# Launch graph\n",
    "print(\"start training...\")\n",
    "t.tic()\n",
    "with tf.Session() as sess:\n",
    "    sess.run(init)\n",
    "    # Set the logs writer\n",
    "    summary_writer = tf.summary.FileWriter('C:\\\\Users\\\\saurabh B\\\\TensorFlow-practice\\\\Tensorflow-Practice\\\\Summary_logs', graph=sess.graph)\n",
    "    \n",
    "    # Training cycle\n",
    "    for epoch in range(num_epochs):\n",
    "        avg_cost = 0.\n",
    "        batch_count = int(mnist.train.num_examples/batch_size)\n",
    "        \n",
    "        # Loop over all batches\n",
    "        for batch in range(batch_count):\n",
    "            batch_x,batch_y = mnist.train.next_batch(batch_size)\n",
    "            # Train the model \n",
    "            sess.run(optimizer,feed_dict={x:batch_x,y:batch_y})\n",
    "            # Compute average loss/cost\n",
    "            avg_cost += sess.run(cost_function,feed_dict={x:batch_x,y:batch_y})/batch_count\n",
    "            # Write logs for each iteration\n",
    "            summary_str = sess.run(merged_summary_op,feed_dict={x:batch_x,y:batch_y})\n",
    "            summary_writer.add_summary(summary_str,epoch*batch_count+batch)\n",
    "            \n",
    "        # Display logs per iteration step\n",
    "        if epoch % 5 == 0:\n",
    "            print(\"Epoch:\", '%02d' % (epoch), \"cost=\", \"{:.9f}\".format(avg_cost))\n",
    "            \n",
    "    print(\"Training Complete\")  \n",
    "    t.toc()\n",
    "\n",
    "    print (\"Accuracy:\", accuracy.eval(feed_dict={x: mnist.test.images, y: mnist.test.labels}))"
   ]
  },
  {
   "cell_type": "code",
   "execution_count": null,
   "metadata": {},
   "outputs": [],
   "source": []
  },
  {
   "cell_type": "code",
   "execution_count": null,
   "metadata": {},
   "outputs": [],
   "source": []
  }
 ],
 "metadata": {
  "kernelspec": {
   "display_name": "Python 3",
   "language": "python",
   "name": "python3"
  },
  "language_info": {
   "codemirror_mode": {
    "name": "ipython",
    "version": 3
   },
   "file_extension": ".py",
   "mimetype": "text/x-python",
   "name": "python",
   "nbconvert_exporter": "python",
   "pygments_lexer": "ipython3",
   "version": "3.5.2"
  }
 },
 "nbformat": 4,
 "nbformat_minor": 2
}
