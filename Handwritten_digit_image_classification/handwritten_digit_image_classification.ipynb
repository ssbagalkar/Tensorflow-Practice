{
 "cells": [
  {
   "cell_type": "code",
   "execution_count": null,
   "metadata": {},
   "outputs": [],
   "source": [
    "# Import data\n",
    "from tensorflow.examples.tutorials.mnist import input_data\n",
    "mnist = input_data.read_data_sets(\"/tmp/data/\", one_hot=True)\n",
    "print(\"Data imported...\")"
   ]
  },
  {
   "cell_type": "code",
   "execution_count": null,
   "metadata": {},
   "outputs": [],
   "source": [
    "import tensorflow as tf"
   ]
  },
  {
   "cell_type": "code",
   "execution_count": null,
   "metadata": {},
   "outputs": [],
   "source": [
    "#Set our hyperparameters\n",
    "learning_rate = 0.01\n",
    "training_iterations = 30\n",
    "batch_size = 30\n",
    "#display_step = 2\n",
    "print(\"All hyperparameters are set...\")"
   ]
  },
  {
   "cell_type": "code",
   "execution_count": null,
   "metadata": {},
   "outputs": [],
   "source": [
    "# TF graph input\n",
    "x = tf.placeholder(\"float\",[None, 784]) # mnist data images of 28*28=784\n",
    "y = tf.placeholder(\"float\",[None, 10]) # 10 class labels"
   ]
  },
  {
   "cell_type": "code",
   "execution_count": null,
   "metadata": {},
   "outputs": [],
   "source": [
    "# Create model\n",
    "# Set weights\n",
    "W = tf.Variable(tf.zeros([784,10]))\n",
    "\n",
    "# Set bias\n",
    "b = tf.Variable(tf.zeros(10))"
   ]
  },
  {
   "cell_type": "code",
   "execution_count": null,
   "metadata": {},
   "outputs": [],
   "source": [
    "# Create a model with Wx+b as scope\n",
    "with tf.name_scope(\"Wx_b\") as scope:\n",
    "    # Solve the linear equation to get logits\n",
    "    logits = tf.matmul(x,W)+b\n",
    "\n",
    "    # Once we get the logits, we can turn these into probabilities using softmax function\n",
    "    model = tf.nn.softmax(logits)"
   ]
  },
  {
   "cell_type": "code",
   "execution_count": null,
   "metadata": {},
   "outputs": [],
   "source": [
    "# add summary operations to visulaize the distribution of weights and biases\n",
    "w_h = tf.summary.histogram(\"weights\", W)\n",
    "b_h = tf.summary.histogram(\"biases\", b)"
   ]
  },
  {
   "cell_type": "code",
   "execution_count": null,
   "metadata": {},
   "outputs": [],
   "source": [
    "# Define the cost function\n",
    "with tf.name_scope(\"cost_function\") as scope:\n",
    "    cost_function = -tf.reduce_sum(tf.mul(y,tf.log(model)))\n",
    "    \n",
    "    # Create a summary to monitor the cost function\n",
    "    tf.summary.scalar(\"cost_function\",cost_function)"
   ]
  },
  {
   "cell_type": "code",
   "execution_count": null,
   "metadata": {},
   "outputs": [],
   "source": [
    "# Train the model\n",
    "with tf.name_scope(\"train\") as scope:\n",
    "    # Define the gradient descent optimizer\n",
    "    optimizer = tf.train.GradientDescentOptimizer(learning_rate).minimize(cost_function)"
   ]
  },
  {
   "cell_type": "code",
   "execution_count": null,
   "metadata": {},
   "outputs": [],
   "source": [
    "# Initialize al variables\n",
    "init = tf.global_variables_initializer()"
   ]
  },
  {
   "cell_type": "code",
   "execution_count": null,
   "metadata": {},
   "outputs": [],
   "source": [
    "# Merge all summaries\n",
    "merged_summary_op = tf.merge_all_summaries()"
   ]
  },
  {
   "cell_type": "code",
   "execution_count": null,
   "metadata": {},
   "outputs": [],
   "source": [
    "# Launch graph\n",
    "print(\"start training...\")\n",
    "with tf.Session() as sess:\n",
    "    sess.run(init)\n",
    "    # Set the logs writer\n",
    "    summary_writer = tf.summary.FileWriter('C:\\\\Users\\\\saurabh B\\\\TensorFlow-practice\\\\Tensorflow-Practice\\\\Handwritten_digit_image classification', graph=sess.graph)\n",
    "    \n",
    "    # Training cycle\n",
    "    for iteration in range(training_iterations):\n",
    "        avg_cost = 0.\n",
    "        total_batch = int(mnist.train.num_examples/batch_size)\n",
    "        \n",
    "        # Loop over all batches\n",
    "        for batch in range(total_batch):\n",
    "            batch_x,batch_y = mnist.train.next_batch(batch_size)\n",
    "            # Train the model \n",
    "            sess.run(optimizer,feed_dict={x:batch_x,y:batch_y})\n",
    "            # Compute average loss/cost\n",
    "            avg_cost += sess.run(cost_function,feed_dict={x:batch_x,y:batch_y})/total_batch\n",
    "            # Write logs for each iteration\n",
    "            summary_str = sess.run(merged_summary_op,feed_dict={x:batch_x,y:batch_y})\n",
    "            summary_writer.add_summary(summary_str,iteration*total_batch*batch)\n",
    "            \n",
    "        # Display logs per iteration step\n",
    "        #if iteration % display_step == 0:\n",
    "        print (\"Iteration:\", '%02d' % (iteration), \"cost=\", \"{:.9f}\".format(avg_cost))\n",
    "            \n",
    "    print(\"Training Complete\")    \n",
    "\n",
    "    # Test the model\n",
    "    predictions = tf.equal(tf.argmax(model,1),tf.argmax(y,1))\n",
    "    # Calculate accuracy\n",
    "    accuracy = tf.reduce_mean(tf.cast(predictions,\"float\"))\n",
    "\n",
    "    print (\"Accuracy:\", accuracy.eval({x: mnist.test.images, y: mnist.test.labels}))"
   ]
  }
 ],
 "metadata": {
  "kernelspec": {
   "display_name": "Python 3",
   "language": "python",
   "name": "python3"
  },
  "language_info": {
   "codemirror_mode": {
    "name": "ipython",
    "version": 3.0
   },
   "file_extension": ".py",
   "mimetype": "text/x-python",
   "name": "python",
   "nbconvert_exporter": "python",
   "pygments_lexer": "ipython3",
   "version": "3.5.2"
  }
 },
 "nbformat": 4,
 "nbformat_minor": 0
}