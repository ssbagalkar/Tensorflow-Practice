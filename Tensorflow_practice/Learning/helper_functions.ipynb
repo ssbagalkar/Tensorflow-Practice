{
 "cells": [
  {
   "cell_type": "code",
   "execution_count": 11,
   "metadata": {},
   "outputs": [],
   "source": [
    "import tensorflow as tf\n",
    "import numpy as np\n",
    "import matplotlib.pyplot as plt\n"
   ]
  },
  {
   "cell_type": "code",
   "execution_count": 12,
   "metadata": {},
   "outputs": [],
   "source": [
    "def create_samples(n_clusters, n_samples_per_cluster, n_features, embiggen_factor, seed):\n",
    "    np.random.seed(seed)\n",
    "    slices=[]\n",
    "    centroids=[]\n",
    "    for i in range(n_clusters):\n",
    "        samples = tf.random_normal((n_samples_per_cluster, n_features),\n",
    "                    mean=0.0,stddev=5.0,dtype=tf.float32,seed=seed, name=\"cluster_{}\".format(i))\n",
    "        current_centroid = (np.random.random((1,n_features)) * embiggen_factor) - (embiggen_factor/2)\n",
    "        centroids.append(current_centroid)\n",
    "        samples+=current_centroid\n",
    "        slices.append(samples)\n",
    "    # Create a big \"samples\" dataset\n",
    "    samples = tf.concat(slices,0,name='samples')\n",
    "    centroids = tf.concat(centroids,0,name='centroids')\n",
    "    return centroids, samples\n",
    "        "
   ]
  },
  {
   "cell_type": "code",
   "execution_count": 13,
   "metadata": {},
   "outputs": [],
   "source": [
    "def plot_clusters(all_samples, centroids, n_samples_per_cluster):\n",
    "    # Plot the different clusters\n",
    "    color = plt.cm.rainbow(np.linspace(0,1,len(centroids)))\n",
    "    for i, centroid in enumerate(centroids):\n",
    "        samples = all_samples[i*n_samples_per_cluster:(i+1)*n_samples_per_cluster]\n",
    "        plt.scatter(samples[:,0],samples[:,1],c=color[i])\n",
    "        # Plot centroid\n",
    "        plt.plot(centroid[0],centroid[1],markersize = 35, marker = 'x', color = 'k', mew = 5)\n",
    "        plt.plot(centroid[0], centroid[1], markersize = 30, marker = 'x', color = 'm', mew = 2)\n",
    "    \n",
    "\n",
    "    "
   ]
  },
  {
   "cell_type": "code",
   "execution_count": 14,
   "metadata": {},
   "outputs": [],
   "source": [
    "def choose_random_centroids(samples,n_clusters):\n",
    "    n_samples = tf.shape(samples)[0]\n",
    "    random_indices = tf.random_shuffle(tf.range(0,n_samples))\n",
    "    begin = [0]\n",
    "    size = [n_clusters]\n",
    "    centroid_indices = tf.slice(random_indices,begin,size)\n",
    "    initial_centroids = tf.gather(samples,centroid_indices)\n",
    "    return initial_centroids\n",
    "    "
   ]
  },
  {
   "cell_type": "code",
   "execution_count": 15,
   "metadata": {},
   "outputs": [],
   "source": [
    "def assign_to_nearest(samples,centroids):\n",
    "    expanded_vectors = tf.expand_dims(samples,0)\n",
    "    expanded_centroids = tf.expand_dims(centroids,1)\n",
    "    distances = tf.reduce_sum(tf.square(tf.subtract(expanded_vectors,expanded_centroids)),2)\n",
    "    mins = tf.argmin(distances,0)\n",
    "    nearest_indices = mins\n",
    "    return nearest_indices"
   ]
  },
  {
   "cell_type": "code",
   "execution_count": 16,
   "metadata": {},
   "outputs": [],
   "source": [
    "def update_centroids(samples, nearest_indices, n_clusters):\n",
    "    # Updates the centroid to be the mean of all samples associated with it.\n",
    "    nearest_indices = tf.to_int32(nearest_indices)\n",
    "    partitions = tf.dynamic_partition(samples, nearest_indices, n_clusters)\n",
    "    new_centroids = tf.concat([tf.expand_dims(tf.reduce_mean(partition, 0), 0) for partition in partitions], 0)\n",
    "    return new_centroids"
   ]
  }
 ],
 "metadata": {
  "kernelspec": {
   "display_name": "Python 3",
   "language": "python",
   "name": "python3"
  },
  "language_info": {
   "codemirror_mode": {
    "name": "ipython",
    "version": 3
   },
   "file_extension": ".py",
   "mimetype": "text/x-python",
   "name": "python",
   "nbconvert_exporter": "python",
   "pygments_lexer": "ipython3",
   "version": "3.5.2"
  }
 },
 "nbformat": 4,
 "nbformat_minor": 2
}
